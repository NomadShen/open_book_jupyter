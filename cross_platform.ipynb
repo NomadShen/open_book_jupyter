{
 "cells": [
  {
   "cell_type": "markdown",
   "id": "fdeaded1",
   "metadata": {},
   "source": [
    "## Import library"
   ]
  },
  {
   "cell_type": "code",
   "execution_count": null,
   "id": "e6e57b77",
   "metadata": {},
   "outputs": [],
   "source": [
    "import time\n",
    "import numpy as np\n",
    "from tqdm.notebook import trange,tqdm\n",
    "import math"
   ]
  },
  {
   "cell_type": "markdown",
   "id": "15b2565e",
   "metadata": {},
   "source": [
    "## Use our collected trace"
   ]
  },
  {
   "cell_type": "markdown",
   "id": "a3fec199",
   "metadata": {},
   "source": [
    "If you do not have a ChipWhisperer device, you can use the traces we collected and skip the following trace collecting part. It may take some time to load the trace.\n",
    "\n",
    "Remember to replace the file path."
   ]
  },
  {
   "cell_type": "code",
   "execution_count": null,
   "id": "ef867d31",
   "metadata": {},
   "outputs": [],
   "source": [
    "your_path = \"add_your_path_here\"\n",
    "trace_cwlite = np.loadtxt(your_path+\"/data/cwlite_cross.txt\",delimiter=',')\n",
    "trace_cwnano = np.loadtxt(your_path+\"/data/cwnano_cross.txt\",delimiter=',')"
   ]
  },
  {
   "cell_type": "markdown",
   "id": "30871c46",
   "metadata": {},
   "source": [
    "## Collect trace (ChipWhisperer-Lite) "
   ]
  },
  {
   "cell_type": "markdown",
   "id": "778e9315",
   "metadata": {},
   "source": [
    "Connect the ChipWhisperer-Lite to the PC"
   ]
  },
  {
   "cell_type": "code",
   "execution_count": null,
   "id": "da0ff04e",
   "metadata": {},
   "outputs": [],
   "source": [
    "import chipwhisperer as cw\n",
    "## Collect trace (ChipWhisperer-NANO)SCOPETYPE = 'OPENADC'\n",
    "PLATFORM = 'CWLITEARM'\n",
    "CRYPTO_TARGET='TINYAES128C' \n",
    "SS_VER='SS_VER_2_1'"
   ]
  },
  {
   "cell_type": "code",
   "execution_count": null,
   "id": "044d40d4",
   "metadata": {},
   "outputs": [],
   "source": [
    "%run \"../../Setup_Scripts/Setup_Generic.ipynb\""
   ]
  },
  {
   "cell_type": "code",
   "execution_count": null,
   "id": "f3b08fdd",
   "metadata": {},
   "outputs": [],
   "source": [
    "%%bash -s \"$PLATFORM\" \"$CRYPTO_TARGET\" \"$SS_VER\"\n",
    "cd ../../../hardware/victims/firmware/simpleserial-aes\n",
    "make PLATFORM=$1 CRYPTO_TARGET=$2 SS_VER=$3 -j"
   ]
  },
  {
   "cell_type": "code",
   "execution_count": null,
   "id": "61c531c8",
   "metadata": {},
   "outputs": [],
   "source": [
    "cw.program_target(scope, prog, \"../../../hardware/victims/firmware/simpleserial-aes/simpleserial-aes-{}.hex\".format(PLATFORM))"
   ]
  },
  {
   "cell_type": "code",
   "execution_count": null,
   "id": "ff6301df",
   "metadata": {},
   "outputs": [],
   "source": [
    "n_trace_all = 20000"
   ]
  },
  {
   "cell_type": "code",
   "execution_count": null,
   "id": "378c3adc",
   "metadata": {},
   "outputs": [],
   "source": [
    "ktp = cw.ktp.Basic()\n",
    "trace_array = []\n",
    "textin_array = []\n",
    "text = []\n",
    "\n",
    "for i in range(n_trace_all):\n",
    "    key, text_t = ktp.next()\n",
    "    text.append(text_t)"
   ]
  },
  {
   "cell_type": "code",
   "execution_count": null,
   "id": "95d2dcb5",
   "metadata": {},
   "outputs": [],
   "source": [
    "def capture(key, text):\n",
    "    target.set_key(key)\n",
    "    \n",
    "    scope.arm()\n",
    "    \n",
    "    target.simpleserial_write('p', text)\n",
    "    \n",
    "    ret = scope.capture()\n",
    "    if ret:\n",
    "        print(\"Target timed out!\")\n",
    "    \n",
    "    response = target.simpleserial_read('r', 16)\n",
    "    \n",
    "    return scope.get_last_trace()"
   ]
  },
  {
   "cell_type": "code",
   "execution_count": null,
   "id": "3b03844f",
   "metadata": {},
   "outputs": [],
   "source": [
    "# capture trace\n",
    "trace_cwlite = []\n",
    "\n",
    "scope.adc.samples = 7500\n",
    "\n",
    "scope.adc.decimate = 4\n",
    "\n",
    "for i in trange(n_trace_all):\n",
    "    trace_cwlite.append(np.array(capture(key, text[i])))"
   ]
  },
  {
   "cell_type": "code",
   "execution_count": null,
   "id": "68fe1268",
   "metadata": {},
   "outputs": [],
   "source": [
    "scope.dis()"
   ]
  },
  {
   "cell_type": "markdown",
   "id": "2b46101d",
   "metadata": {},
   "source": [
    "## Collect trace (ChipWhisperer-NANO)"
   ]
  },
  {
   "cell_type": "markdown",
   "id": "0708f554",
   "metadata": {},
   "source": [
    "Connect the ChipWhisperer-Nano to the PC"
   ]
  },
  {
   "cell_type": "code",
   "execution_count": null,
   "id": "89759060",
   "metadata": {},
   "outputs": [],
   "source": [
    "SCOPETYPE = 'OPENADC'\n",
    "PLATFORM = 'CWNANO'\n",
    "CRYPTO_TARGET='TINYAES128C' \n",
    "SS_VER='SS_VER_2_1'"
   ]
  },
  {
   "cell_type": "code",
   "execution_count": null,
   "id": "9f4abe1e",
   "metadata": {},
   "outputs": [],
   "source": [
    "%run \"../../Setup_Scripts/Setup_Generic.ipynb\""
   ]
  },
  {
   "cell_type": "code",
   "execution_count": null,
   "id": "8ae68a72",
   "metadata": {},
   "outputs": [],
   "source": [
    "%%bash -s \"$PLATFORM\" \"$CRYPTO_TARGET\" \"$SS_VER\"\n",
    "cd ../../../hardware/victims/firmware/simpleserial-aes\n",
    "make PLATFORM=$1 CRYPTO_TARGET=$2 SS_VER=$3 -j"
   ]
  },
  {
   "cell_type": "code",
   "execution_count": null,
   "id": "5ec1bdb2",
   "metadata": {},
   "outputs": [],
   "source": [
    "cw.program_target(scope, prog, \"../../../hardware/victims/firmware/simpleserial-aes/simpleserial-aes-{}.hex\".format(PLATFORM))"
   ]
  },
  {
   "cell_type": "code",
   "execution_count": null,
   "id": "8f159544",
   "metadata": {},
   "outputs": [],
   "source": [
    "ktp = cw.ktp.Basic()\n",
    "trace_array = []\n",
    "textin_array = []\n",
    "text = []\n",
    "\n",
    "for i in range(n_trace_all):\n",
    "    key, text_t = ktp.next()\n",
    "    text.append(text_t)"
   ]
  },
  {
   "cell_type": "code",
   "execution_count": null,
   "id": "e63be824",
   "metadata": {},
   "outputs": [],
   "source": [
    "def capture(key, text):\n",
    "    target.set_key(key)\n",
    "    \n",
    "    scope.arm()\n",
    "    \n",
    "    target.simpleserial_write('p', text)\n",
    "    \n",
    "    ret = scope.capture()\n",
    "    if ret:\n",
    "        print(\"Target timed out!\")\n",
    "    \n",
    "    response = target.simpleserial_read('r', 16)\n",
    "    \n",
    "    return scope.get_last_trace()"
   ]
  },
  {
   "cell_type": "code",
   "execution_count": null,
   "id": "d7c8d9e5",
   "metadata": {},
   "outputs": [],
   "source": [
    "# capture trace\n",
    "trace_cwnano = []\n",
    "\n",
    "scope.adc.samples = 13000\n",
    "\n",
    "for i in trange(n_trace_all):\n",
    "    trace_cwnano.append(np.array(capture(key, text[i])))"
   ]
  },
  {
   "cell_type": "code",
   "execution_count": null,
   "id": "cc376aa1",
   "metadata": {},
   "outputs": [],
   "source": [
    "scope.dis()"
   ]
  },
  {
   "cell_type": "markdown",
   "id": "728d4b45",
   "metadata": {},
   "source": [
    "## Data Processing"
   ]
  },
  {
   "cell_type": "code",
   "execution_count": null,
   "id": "cc260f80",
   "metadata": {},
   "outputs": [],
   "source": [
    "def mean(X):\n",
    "    return np.sum(X, axis=0)/len(X)\n",
    "\n",
    "def std_dev(X):\n",
    "    X_bar = mean(X)\n",
    "    return np.sqrt(np.sum((X-X_bar)**2, axis=0))\n",
    "\n",
    "def corr(X, Y):\n",
    "    X_bar = mean(X)\n",
    "    Y_bar = mean(Y)\n",
    "    return (np.sum((X-X_bar)*(Y-Y_bar), axis=0)/(std_dev(X)*std_dev(Y)))"
   ]
  },
  {
   "cell_type": "code",
   "execution_count": null,
   "id": "09300e16",
   "metadata": {},
   "outputs": [],
   "source": [
    "n_trace = n_trace_all\n",
    "n_trace_half = n_trace >> 1\n",
    "\n",
    "# train_cwlite = trace_cwlite[0:n_trace_half]\n",
    "# train_cwnano = trace_cwnano[0:n_trace_half]\n",
    "train_cwlite = trace_cwlite[0:1000,150:7150]\n",
    "train_cwnano = trace_cwnano[0:1000]"
   ]
  },
  {
   "cell_type": "code",
   "execution_count": null,
   "id": "d668b07f",
   "metadata": {},
   "outputs": [],
   "source": [
    "test_cwlite = trace_cwlite[n_trace_half:n_trace,150:7150]\n",
    "test_cwnano = trace_cwnano[n_trace_half:n_trace]"
   ]
  },
  {
   "cell_type": "code",
   "execution_count": null,
   "id": "1f940a8e",
   "metadata": {},
   "outputs": [],
   "source": [
    "nano_start = 0\n",
    "nano_end = 11500\n",
    "nano_len = nano_end - nano_start\n",
    "\n",
    "train_cwnano_ref = train_cwnano[0][nano_start:nano_end]"
   ]
  },
  {
   "cell_type": "code",
   "execution_count": null,
   "id": "44fe8d5e",
   "metadata": {},
   "outputs": [],
   "source": [
    "# select POIs of NANO by variance\n",
    "train_cwnano_var = []\n",
    "poi_nano_big = []\n",
    "\n",
    "n_poi = 1 # k_poi\n",
    "interval = 500 # l_s\n",
    "\n",
    "pieces = math.floor(nano_len/interval)\n",
    "\n",
    "for i in range(nano_start,nano_end):\n",
    "    train_cwnano_var.append(np.var(train_cwnano[:,i]))\n",
    "\n",
    "for i in range(pieces):\n",
    "    poi_nano_idx = np.array(train_cwnano_var[i*interval:i*interval+interval]).argsort()[-n_poi:][::-1]\n",
    "\n",
    "    for idx in poi_nano_idx:\n",
    "        true_idx = nano_start + i*interval+idx\n",
    "        poi_nano_big.append([true_idx,np.mean(train_cwnano[:,true_idx])])\n",
    "    \n"
   ]
  },
  {
   "cell_type": "code",
   "execution_count": null,
   "id": "8462c8db",
   "metadata": {},
   "outputs": [],
   "source": [
    "# select POIs of Lite corresponding to the POIs of NANO\n",
    "poi_candi = []\n",
    "\n",
    "for poi in tqdm(poi_nano_big):\n",
    "    curr_poi_nano = poi\n",
    "\n",
    "    v_points_nano = train_cwnano[:,curr_poi_nano[0]]\n",
    "\n",
    "    features = []\n",
    "\n",
    "    for i in range(len(train_cwlite[0])):\n",
    "        v_points_lite = train_cwlite[:,i]\n",
    "        cor = corr(v_points_nano,v_points_lite)\n",
    "        features.append(cor)\n",
    "\n",
    "    corr_poi = max(features,key=abs)\n",
    "    idx = np.argmax(np.abs(features))\n",
    "    sign = np.sign(features[idx])\n",
    "    avg = np.mean(train_cwlite[:,idx])\n",
    "    \n",
    "    poi_candi.append([[idx,avg,sign,corr_poi],curr_poi_nano])\n"
   ]
  },
  {
   "cell_type": "code",
   "execution_count": null,
   "id": "9cbda7e1",
   "metadata": {
    "scrolled": false
   },
   "outputs": [],
   "source": [
    "# filter the POIs\n",
    "poi_lite = []\n",
    "poi_nano = []\n",
    "\n",
    "for poi in poi_candi:\n",
    "    \n",
    "    poi_corr = abs(poi[0][3])\n",
    "    \n",
    "    if abs(poi_corr > 0.6):\n",
    "        poi_lite.append(poi[0])\n",
    "        poi_nano.append(poi[1])\n",
    "        \n",
    "print(len(poi_lite))"
   ]
  },
  {
   "cell_type": "code",
   "execution_count": null,
   "id": "70329565",
   "metadata": {},
   "outputs": [],
   "source": [
    "iter_n = 2000 # the number of tests, should be fewer than half n_trace_all/4\n",
    "cnt = 0\n",
    "sig = 0\n",
    "\n",
    "print(len(poi_lite))\n",
    "\n",
    "for i in trange(iter_n):\n",
    "    \n",
    "    # victim trace from lite\n",
    "    v_trace = test_cwlite[i*4:i*4+4]\n",
    "    # template trace from nano\n",
    "    t_trace = test_cwnano[i*4+1]\n",
    "    \n",
    "    trace_compact = []\n",
    "\n",
    "    for ii in range(4):\n",
    "        trace_compact.append(np.array([sign*(v_trace[ii][idx]-avg) for [idx,avg,sign,_] in poi_lite]))\n",
    "\n",
    "    trace_ref_compact = np.array([t_trace[idx]-avg for [idx,avg] in poi_nano])\n",
    "    \n",
    "    c = np.zeros(4)\n",
    "\n",
    "    for ii in range(4):\n",
    "        c[ii] = corr(trace_compact[ii],trace_ref_compact)\n",
    "        \n",
    "    if c.argmax(axis=0) == 1:\n",
    "        cnt += 1\n",
    "        \n",
    "    sig += c[1] - max(c[0] , c[2] , c[3])\n",
    "        \n",
    "print(\"accuracy:\\t\", cnt/iter_n)     \n",
    "print(\"significance:\\t\", sig/iter_n)"
   ]
  },
  {
   "cell_type": "code",
   "execution_count": null,
   "id": "26572462",
   "metadata": {},
   "outputs": [],
   "source": [
    "scope.dis()"
   ]
  },
  {
   "cell_type": "code",
   "execution_count": null,
   "id": "33c1b71d",
   "metadata": {},
   "outputs": [],
   "source": []
  }
 ],
 "metadata": {
  "kernelspec": {
   "display_name": "Python 3 (ipykernel)",
   "language": "python",
   "name": "python3"
  },
  "language_info": {
   "codemirror_mode": {
    "name": "ipython",
    "version": 3
   },
   "file_extension": ".py",
   "mimetype": "text/x-python",
   "name": "python",
   "nbconvert_exporter": "python",
   "pygments_lexer": "ipython3",
   "version": "3.7.16"
  }
 },
 "nbformat": 4,
 "nbformat_minor": 5
}
