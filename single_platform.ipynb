{
 "cells": [
  {
   "cell_type": "markdown",
   "id": "5335c1af",
   "metadata": {},
   "source": [
    "## Import library"
   ]
  },
  {
   "cell_type": "code",
   "execution_count": null,
   "id": "37f55454",
   "metadata": {},
   "outputs": [],
   "source": [
    "from tqdm.notebook import trange,tqdm\n",
    "import numpy as np"
   ]
  },
  {
   "cell_type": "markdown",
   "id": "316af9a9",
   "metadata": {},
   "source": [
    "## Configure the device"
   ]
  },
  {
   "cell_type": "markdown",
   "id": "4f645e27",
   "metadata": {},
   "source": [
    "Device: ChipWhisperer-Lite"
   ]
  },
  {
   "cell_type": "code",
   "execution_count": null,
   "id": "da0ff04e",
   "metadata": {},
   "outputs": [],
   "source": [
    "SCOPETYPE = 'OPENADC'\n",
    "PLATFORM = 'CWLITEARM'\n",
    "CRYPTO_TARGET='TINYAES128C' \n",
    "SS_VER='SS_VER_2_1'\n",
    "\n",
    "import chipwhisperer as cw"
   ]
  },
  {
   "cell_type": "code",
   "execution_count": null,
   "id": "044d40d4",
   "metadata": {},
   "outputs": [],
   "source": [
    "%run \"../../Setup_Scripts/Setup_Generic.ipynb\""
   ]
  },
  {
   "cell_type": "code",
   "execution_count": null,
   "id": "f3b08fdd",
   "metadata": {},
   "outputs": [],
   "source": [
    "%%bash -s \"$PLATFORM\" \"$CRYPTO_TARGET\" \"$SS_VER\"\n",
    "cd ../../../hardware/victims/firmware/simpleserial-aes\n",
    "make PLATFORM=$1 CRYPTO_TARGET=$2 SS_VER=$3 -j"
   ]
  },
  {
   "cell_type": "code",
   "execution_count": null,
   "id": "61c531c8",
   "metadata": {
    "scrolled": true
   },
   "outputs": [],
   "source": [
    "cw.program_target(scope, prog, \"../../../hardware/victims/firmware/simpleserial-aes/simpleserial-aes-{}.hex\".format(PLATFORM))"
   ]
  },
  {
   "cell_type": "markdown",
   "id": "a884663d",
   "metadata": {},
   "source": [
    "## Use our collected trace"
   ]
  },
  {
   "cell_type": "markdown",
   "id": "c2cd740a",
   "metadata": {},
   "source": [
    "If you do not have a ChipWhisperer device, you can use the traces we collected and skip the following trace collecting part. It may take some time to load the trace.\n",
    "\n",
    "Remember to replace the file path."
   ]
  },
  {
   "cell_type": "code",
   "execution_count": null,
   "id": "622fa2f1",
   "metadata": {},
   "outputs": [],
   "source": [
    "your_path = \"add_your_path_here\"\n",
    "trace_profile = np.loadtxt(your_path+\"/data/trace_profile.txt\",delimiter=',')\n",
    "trace_garb = np.loadtxt(your_path+\"/data/trace_garb.txt\",delimiter=',')\n",
    "trace_eval = np.loadtxt(your_path+\"/data/trace_eval.txt\",delimiter=',')"
   ]
  },
  {
   "cell_type": "markdown",
   "id": "b6407d6b",
   "metadata": {},
   "source": [
    "## Collecting Data"
   ]
  },
  {
   "cell_type": "code",
   "execution_count": null,
   "id": "378c3adc",
   "metadata": {},
   "outputs": [],
   "source": [
    "# generate keys and plaintexts\n",
    "ktp = cw.ktp.Basic()\n",
    "trace_array = []\n",
    "textin_array = []\n",
    "text = []\n",
    "text_random = []\n",
    "\n",
    "n_iter = 2000 # number of test traces\n",
    "n_profile = 200\n",
    "\n",
    "for i in range(4*n_iter):\n",
    "    key, text_t = ktp.next()\n",
    "    text.append(text_t)\n",
    "    \n",
    "\n",
    "for i in range(n_profile):\n",
    "    _, text_t = ktp.next()\n",
    "    text_random.append(text_t)"
   ]
  },
  {
   "cell_type": "code",
   "execution_count": null,
   "id": "95d2dcb5",
   "metadata": {},
   "outputs": [],
   "source": [
    "def capture(key, text):\n",
    "    target.set_key(key)\n",
    "    \n",
    "    scope.arm()\n",
    "    \n",
    "    target.simpleserial_write('p', text)\n",
    "    \n",
    "    ret = scope.capture()\n",
    "    if ret:\n",
    "        print(\"Target timed out!\")\n",
    "    \n",
    "    response = target.simpleserial_read('r', 16)\n",
    "    \n",
    "    return scope.get_last_trace()"
   ]
  },
  {
   "cell_type": "code",
   "execution_count": null,
   "id": "133a3099",
   "metadata": {},
   "outputs": [],
   "source": [
    "trace_garb = []\n",
    "trace_eval = []\n",
    "trace_profile = []\n",
    "\n",
    "pos_begin = 150\n",
    "pos_end = 7150\n",
    "\n",
    "\n",
    "scope.adc.samples = 8000\n",
    "scope.adc.decimate = 4\n",
    "\n",
    "for t in tqdm(text_random):\n",
    "    trace_profile.append(np.array(capture(key, t))[pos_begin:pos_end])\n",
    "    \n",
    "\n",
    "\n",
    "for i in trange(4*n_iter):\n",
    "    trace_garb.append(np.array(capture(key, text[i]))[pos_begin:pos_end])\n",
    "\n",
    "    \n",
    "for i in trange(4*n_iter):\n",
    "    trace_eval.append(np.array(capture(key, text[i]))[pos_begin:pos_end])"
   ]
  },
  {
   "cell_type": "code",
   "execution_count": null,
   "id": "c307de3a",
   "metadata": {},
   "outputs": [],
   "source": [
    "# for cw lite\n",
    "np.savetxt(\"D:\\\\prj\\\\chipwhisperer\\\\jupyter\\\\user\\\\open_book\\\\data\\\\trace_profile.txt\",trace_profile,fmt='%f',delimiter=',')\n",
    "np.savetxt(\"D:\\\\prj\\\\chipwhisperer\\\\jupyter\\\\user\\\\open_book\\\\data\\\\trace_garb.txt\",trace_garb,fmt='%f',delimiter=',')\n",
    "np.savetxt(\"D:\\\\prj\\\\chipwhisperer\\\\jupyter\\\\user\\\\open_book\\\\data\\\\trace_eval.txt\",trace_eval,fmt='%f',delimiter=',')"
   ]
  },
  {
   "cell_type": "markdown",
   "id": "728d4b45",
   "metadata": {},
   "source": [
    "## Data Processing"
   ]
  },
  {
   "cell_type": "code",
   "execution_count": null,
   "id": "b515a1e3",
   "metadata": {},
   "outputs": [],
   "source": [
    "# select point of interest (POI) by variance\n",
    "train_cwnano_var = []\n",
    "poi = []\n",
    "\n",
    "n_poi = 1\n",
    "interval = 500\n",
    "trace_len = pos_end-pos_begin\n",
    "pieces = int(trace_len/interval)\n",
    "\n",
    "trace_garb = np.array(trace_garb)\n",
    "\n",
    "for i in range(trace_len):\n",
    "    train_cwnano_var.append(np.var(trace_garb[:,i]))\n",
    "\n",
    "for i in range(pieces):\n",
    "    poi_nano_idx = np.array(train_cwnano_var[i*interval:i*interval+interval]).argsort()[-n_poi:][::-1]\n",
    "\n",
    "    for idx in poi_nano_idx:\n",
    "        true_idx = i*interval+idx\n",
    "        poi.append(true_idx)"
   ]
  },
  {
   "cell_type": "code",
   "execution_count": null,
   "id": "cc260f80",
   "metadata": {},
   "outputs": [],
   "source": [
    "def mean(X):\n",
    "    return np.sum(X, axis=0)/len(X)\n",
    "\n",
    "def std_dev(X):\n",
    "    X_bar = mean(X)\n",
    "    return np.sqrt(np.sum((X-X_bar)**2, axis=0))\n",
    "\n",
    "def corr(X, Y):\n",
    "    X_bar = mean(X)\n",
    "    Y_bar = mean(Y)\n",
    "    return np.sum((X-X_bar)*(Y-Y_bar), axis=0)/(std_dev(X)*std_dev(Y))"
   ]
  },
  {
   "cell_type": "code",
   "execution_count": null,
   "id": "d3fb3edb",
   "metadata": {},
   "outputs": [],
   "source": [
    "cnt = 0\n",
    "sig = 0\n",
    "\n",
    "trace_avg = np.mean(np.array(trace_profile), axis=0)\n",
    "\n",
    "for i in trange(n_iter):\n",
    "    \n",
    "    # victim trace from lite\n",
    "    v_trace = trace_garb[i*4:i*4+4]\n",
    "    # template trace from nano\n",
    "    t_trace = trace_eval[i*4]\n",
    "    \n",
    "    trace_compact = []\n",
    "\n",
    "    for ii in range(4):\n",
    "        trace_compact.append(np.array([(v_trace[ii][p])-trace_avg[p] for p in poi]))\n",
    "\n",
    "    trace_ref_compact = np.array([t_trace[p]-trace_avg[p] for p in poi])\n",
    "    \n",
    "    c = np.zeros(4)\n",
    "\n",
    "    for ii in range(4):\n",
    "        c[ii] = corr(trace_compact[ii],trace_ref_compact)\n",
    "        \n",
    "    sig += c[0] - max(c[1] , c[2] , c[3])\n",
    "        \n",
    "    if c.argmax(axis=0) == 0:\n",
    "        cnt += 1\n",
    "        \n",
    "print(\"Accuracy:\\t\", cnt/n_iter)        \n",
    "print(\"Significance:\\t\", sig/n_iter)"
   ]
  },
  {
   "cell_type": "code",
   "execution_count": null,
   "id": "cedc537d",
   "metadata": {},
   "outputs": [],
   "source": [
    "scope.dis()"
   ]
  }
 ],
 "metadata": {
  "kernelspec": {
   "display_name": "Python 3 (ipykernel)",
   "language": "python",
   "name": "python3"
  },
  "language_info": {
   "codemirror_mode": {
    "name": "ipython",
    "version": 3
   },
   "file_extension": ".py",
   "mimetype": "text/x-python",
   "name": "python",
   "nbconvert_exporter": "python",
   "pygments_lexer": "ipython3",
   "version": "3.7.16"
  }
 },
 "nbformat": 4,
 "nbformat_minor": 5
}
