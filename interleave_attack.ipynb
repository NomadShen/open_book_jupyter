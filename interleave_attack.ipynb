{
 "cells": [
  {
   "cell_type": "markdown",
   "id": "4b2eca4e",
   "metadata": {},
   "source": [
    "## Import library"
   ]
  },
  {
   "cell_type": "code",
   "execution_count": null,
   "id": "617b07b1",
   "metadata": {},
   "outputs": [],
   "source": [
    "from tqdm.notebook import trange\n",
    "import numpy as np\n",
    "import time"
   ]
  },
  {
   "cell_type": "markdown",
   "id": "052bb402",
   "metadata": {},
   "source": [
    "## Configure the device"
   ]
  },
  {
   "cell_type": "markdown",
   "id": "4f4d7e80",
   "metadata": {},
   "source": [
    "Device: ChipWhisperer-Lite"
   ]
  },
  {
   "cell_type": "code",
   "execution_count": null,
   "id": "2ad96f9e-a124-47c0-b525-fcbae06fc5b4",
   "metadata": {},
   "outputs": [],
   "source": [
    "SCOPETYPE = 'OPENADC'\n",
    "PLATFORM = 'CWLITEARM'\n",
    "CRYPTO_TARGET='TINYAES128C' \n",
    "SS_VER='SS_VER_2_1'"
   ]
  },
  {
   "cell_type": "code",
   "execution_count": null,
   "id": "4388e9ed-d700-4327-aeaf-cd623be72ea4",
   "metadata": {},
   "outputs": [],
   "source": [
    "import chipwhisperer as cw"
   ]
  },
  {
   "cell_type": "code",
   "execution_count": null,
   "id": "eb735557-61b6-4f4c-9af4-b3d7cefea28f",
   "metadata": {},
   "outputs": [],
   "source": [
    "%run \"../../Setup_Scripts/Setup_Generic.ipynb\""
   ]
  },
  {
   "cell_type": "code",
   "execution_count": null,
   "id": "5642caed-bd6f-437b-b698-1acf78e93d95",
   "metadata": {
    "scrolled": false
   },
   "outputs": [],
   "source": [
    "%%bash -s \"$PLATFORM\" \"$CRYPTO_TARGET\" \"$SS_VER\"\n",
    "cd ../../../hardware/victims/firmware/simpleserial-aes\n",
    "make PLATFORM=$1 CRYPTO_TARGET=$2 SS_VER=$3 -j"
   ]
  },
  {
   "cell_type": "code",
   "execution_count": null,
   "id": "61c531c8",
   "metadata": {},
   "outputs": [],
   "source": [
    "cw.program_target(scope, prog, \"../../../hardware/victims/firmware/simpleserial-aes/simpleserial-aes-{}.hex\".format(PLATFORM))"
   ]
  },
  {
   "cell_type": "markdown",
   "id": "15b2565e",
   "metadata": {},
   "source": [
    "## Use our collected trace"
   ]
  },
  {
   "cell_type": "markdown",
   "id": "a3fec199",
   "metadata": {},
   "source": [
    "If you do not have a ChipWhisperer device, you can use the traces we collected and skip the following trace collecting part. It may take some time to load the trace.\n",
    "\n",
    "Remember to replace the file path."
   ]
  },
  {
   "cell_type": "code",
   "execution_count": null,
   "id": "ef867d31",
   "metadata": {},
   "outputs": [],
   "source": [
    "your_path = \"add_your_path_here\"\n",
    "trace0 = np.loadtxt(your_path+\"/data/trace0.txt\",delimiter=',')\n",
    "trace1 = np.loadtxt(your_path+\"/data/trace1.txt\",delimiter=',')\n",
    "trace2 = np.loadtxt(your_path+\"/data/trace2.txt\",delimiter=',')\n",
    "trace3 = np.loadtxt(your_path+\"/data/trace3.txt\",delimiter=',')\n",
    "trace_mix = np.loadtxt(your_path+\"/data/trace_mix.txt\",delimiter=',')"
   ]
  },
  {
   "cell_type": "markdown",
   "id": "b6407d6b",
   "metadata": {},
   "source": [
    "## Collecting Data"
   ]
  },
  {
   "cell_type": "code",
   "execution_count": null,
   "id": "eb51029a-7afe-4b82-bed6-4b514265f335",
   "metadata": {},
   "outputs": [],
   "source": [
    "# generate keys and plaintexts\n",
    "ktp = cw.ktp.Basic()\n",
    "trace_array = []\n",
    "textin_array = []\n",
    "text0 = []\n",
    "text1 = []\n",
    "text2 = []\n",
    "text3 = []\n",
    "\n",
    "n_iter = 4000\n",
    "\n",
    "for i in range(n_iter):\n",
    "    key, text_t = ktp.next()\n",
    "    text0.append(text_t)\n",
    "    key, text_t = ktp.next()\n",
    "    text1.append(text_t)\n",
    "    key, text_t = ktp.next()\n",
    "    text2.append(text_t)\n",
    "    key, text_t = ktp.next()\n",
    "    text3.append(text_t)"
   ]
  },
  {
   "cell_type": "code",
   "execution_count": null,
   "id": "df0fbc7a-8f41-4858-ab6a-a64f2fb934bb",
   "metadata": {},
   "outputs": [],
   "source": [
    "# capture interleaved AES\n",
    "def capture4(key, t0, t1, t2, t3):\n",
    "    target.set_key(key)\n",
    "    \n",
    "    target.set_pt(0, t0)\n",
    "    target.set_pt(1, t1)\n",
    "    target.set_pt(2, t2)\n",
    "    target.set_pt(3, t3)\n",
    "    \n",
    "    scope.arm()\n",
    "    \n",
    "    target.simpleserial_write('g', t0)\n",
    "    \n",
    "    ret = scope.capture()\n",
    "    if ret:\n",
    "        print(\"Target timed out!\")\n",
    "    \n",
    "    response = target.simpleserial_read('r', 16)\n",
    "    \n",
    "    return scope.get_last_trace()"
   ]
  },
  {
   "cell_type": "code",
   "execution_count": null,
   "id": "86d94fcb-fdf6-478f-adb7-31e90502edf1",
   "metadata": {},
   "outputs": [],
   "source": [
    "# capture seperated AES\n",
    "def capture(key, text):\n",
    "    target.set_key(key)\n",
    "    \n",
    "    scope.arm()\n",
    "    \n",
    "    target.simpleserial_write('p', text)\n",
    "    \n",
    "    ret = scope.capture()\n",
    "    if ret:\n",
    "        print(\"Target timed out!\")\n",
    "    \n",
    "    response = target.simpleserial_read('r', 16)\n",
    "    \n",
    "    return scope.get_last_trace()"
   ]
  },
  {
   "cell_type": "code",
   "execution_count": null,
   "id": "edb94405-5e2b-4cb3-a002-5dc16e0aa9f3",
   "metadata": {},
   "outputs": [],
   "source": [
    "# capture seperated trace\n",
    "trace0 = []\n",
    "trace1 = []\n",
    "trace2 = []\n",
    "trace3 = []\n",
    "\n",
    "scope.adc.samples = 3600\n",
    "\n",
    "target.reset_comms()\n",
    "\n",
    "scope.adc.decimate = 8\n",
    "\n",
    "for i in trange(n_iter):\n",
    "    trace0.append(np.array(capture(key, text0[i])))\n",
    "    trace1.append(np.array(capture(key, text1[i])))\n",
    "    trace2.append(np.array(capture(key, text2[i])))\n",
    "    trace3.append(np.array(capture(key, text3[i])))"
   ]
  },
  {
   "cell_type": "code",
   "execution_count": null,
   "id": "60c77dcf-cdfb-40bd-a357-7673bca8d087",
   "metadata": {},
   "outputs": [],
   "source": [
    "# capture interleaved trace\n",
    "trace_mix = []\n",
    "\n",
    "scope.adc.samples = 16000\n",
    "\n",
    "target.reset_comms()\n",
    "\n",
    "\n",
    "scope.adc.decimate = 8\n",
    "\n",
    "for i in trange(n_iter):\n",
    "    trace_mix.append(np.array(capture4(key, text1[i], text0[i], text2[i], text3[i])))"
   ]
  },
  {
   "cell_type": "markdown",
   "id": "c83bfce4-925b-4754-b0d2-b756f1d4d513",
   "metadata": {},
   "source": [
    "# Data process"
   ]
  },
  {
   "cell_type": "code",
   "execution_count": null,
   "id": "cc260f80",
   "metadata": {},
   "outputs": [],
   "source": [
    "from tqdm.notebook import trange,tqdm\n",
    "import math\n",
    "\n",
    "def mean(X):\n",
    "    return np.sum(X, axis=0)/len(X)\n",
    "\n",
    "def std_dev(X):\n",
    "    X_bar = mean(X)\n",
    "    return np.sqrt(np.sum((X-X_bar)**2, axis=0))\n",
    "\n",
    "def corr(X, Y):\n",
    "    X_bar = mean(X)\n",
    "    Y_bar = mean(Y)\n",
    "    return (np.sum((X-X_bar)*(Y-Y_bar), axis=0)/(std_dev(X)*std_dev(Y)))"
   ]
  },
  {
   "cell_type": "code",
   "execution_count": null,
   "id": "09300e16",
   "metadata": {},
   "outputs": [],
   "source": [
    "trace0 = np.array(trace0)\n",
    "trace1 = np.array(trace1)\n",
    "trace2 = np.array(trace2)\n",
    "trace3 = np.array(trace3)\n",
    "\n",
    "trace_mix = np.array(trace_mix)\n",
    "\n",
    "n_trace = n_iter\n",
    "n_train = n_trace >> 1\n",
    "n_trace_half = n_trace >> 1\n",
    "\n",
    "train_trace = []\n",
    "\n",
    "trace_end = 3450\n",
    "trace_end_l = 13000\n",
    "\n",
    "train_0 = trace0[0:n_train,75:trace_end].copy()\n",
    "train_1 = trace1[0:n_train,75:trace_end].copy()\n",
    "train_2 = trace2[0:n_train,75:trace_end].copy()\n",
    "train_3 = trace3[0:n_train,75:trace_end].copy()\n",
    "train_mix = trace_mix[0:n_train,100:trace_end_l].copy()\n",
    "\n",
    "train_all = np.vstack((train_0,train_1,train_2,train_3))\n",
    "\n",
    "test_trace0 = trace0[n_trace_half:n_trace,75:trace_end].copy()\n",
    "test_trace1 = trace1[n_trace_half:n_trace,75:trace_end].copy()\n",
    "test_trace_mix = trace_mix[n_trace_half:n_trace,100:trace_end_l].copy()\n",
    "\n",
    "test_all_avg = np.mean(np.array(test_trace0), axis=0)\n",
    "test_mix_avg = np.mean(np.array(test_trace_mix), axis=0)"
   ]
  },
  {
   "cell_type": "code",
   "execution_count": null,
   "id": "44fe8d5e",
   "metadata": {},
   "outputs": [],
   "source": [
    "#select POIs by variance\n",
    "train_cwnano_var = []\n",
    "poi_s = []\n",
    "\n",
    "n_poi = 1\n",
    "interval = 500\n",
    "\n",
    "trace_len = len(train_0[0])\n",
    "pieces = int(trace_len/interval)\n",
    "\n",
    "for i in range(trace_len):\n",
    "    train_cwnano_var.append(np.var(train_all[:,i]))\n",
    "\n",
    "for i in range(pieces):\n",
    "    poi_nano_idx = np.array(train_cwnano_var[i*interval:i*interval+interval]).argsort()[-n_poi:][::-1]\n",
    "\n",
    "    for idx in poi_nano_idx:\n",
    "        true_idx = i*interval+idx\n",
    "        poi_s.append(true_idx)"
   ]
  },
  {
   "cell_type": "code",
   "execution_count": null,
   "id": "062054de-26ed-480a-8a92-bee290bc3cf2",
   "metadata": {},
   "outputs": [],
   "source": [
    "# select POIs in the long trace\n",
    "poi_m0 = []\n",
    "poi_m1 = []\n",
    "poi_m2 = []\n",
    "poi_m3 = []\n",
    "poi_st = []\n",
    "cnt = 0\n",
    "cnt_r = 0\n",
    "\n",
    "for poi in tqdm(poi_s):\n",
    "\n",
    "    v_points_0 = train_0[:,poi].copy()\n",
    "    v_points_1 = train_1[:,poi].copy()\n",
    "    v_points_2 = train_2[:,poi].copy()\n",
    "    v_points_3 = train_3[:,poi].copy()\n",
    "\n",
    "    features0 = []\n",
    "    features1 = []\n",
    "    features2 = []\n",
    "    features3 = []\n",
    "\n",
    "    for i in range(len(train_mix[0])):\n",
    "         \n",
    "        v_points_mix = train_mix[:,i].copy()\n",
    "        cor0 = corr(v_points_0,v_points_mix)\n",
    "        cor1 = corr(v_points_1,v_points_mix)\n",
    "        cor2 = corr(v_points_2,v_points_mix)\n",
    "        cor3 = corr(v_points_3,v_points_mix)\n",
    "        features0.append(cor0)\n",
    "        features1.append(cor1)\n",
    "        features2.append(cor2)\n",
    "        features3.append(cor3)\n",
    "\n",
    "    if (max(features0) > 0.5 and max(features1)>0.5 and max(features2)>0.5 and max(features3)>0.5):\n",
    "        id0 = np.argmax(features0)\n",
    "        id1 = np.argmax(features1)\n",
    "        id2 = np.argmax(features2)\n",
    "        id3 = np.argmax(features3)\n",
    "\n",
    "        poi_m0.append(id0)\n",
    "        poi_m1.append(id1)\n",
    "        poi_m2.append(id2)\n",
    "        poi_m3.append(id3)\n",
    "        \n",
    "        poi_st.append(poi)\n",
    "\n"
   ]
  },
  {
   "cell_type": "code",
   "execution_count": null,
   "id": "c086b51f-c348-4099-a891-db5db8eadb9c",
   "metadata": {},
   "outputs": [],
   "source": [
    "# attack on the test set\n",
    "iter_n = n_trace >> 1\n",
    "cnt = 0\n",
    "sig = 0\n",
    "\n",
    "\n",
    "for i in trange(iter_n):\n",
    "    \n",
    "    # victim trace\n",
    "    v_trace = test_trace_mix[i].copy() - test_mix_avg\n",
    "    # template trace\n",
    "    t_trace = test_trace0[i].copy() - test_all_avg\n",
    "\n",
    "    trace_compact0 = np.array([v_trace[idx] for idx in poi_m0])\n",
    "    trace_compact1 = np.array([v_trace[idx] for idx in poi_m1])\n",
    "    trace_compact2 = np.array([v_trace[idx] for idx in poi_m2])\n",
    "    trace_compact3 = np.array([v_trace[idx] for idx in poi_m3])\n",
    "\n",
    "    trace_ref_compact = np.array([t_trace[idx] for idx in poi_st])\n",
    "    \n",
    "    c = np.zeros(4)\n",
    "\n",
    "    c[0] = corr(trace_compact0,trace_ref_compact)\n",
    "    c[1] = corr(trace_compact1,trace_ref_compact)\n",
    "    c[2] = corr(trace_compact2,trace_ref_compact)\n",
    "    c[3] = corr(trace_compact3,trace_ref_compact)\n",
    "        \n",
    "    if c.argmax(axis=0) == 0:\n",
    "        cnt += 1\n",
    "        \n",
    "    sig += c[0] - max(c[1] , c[2] , c[3])\n",
    "        \n",
    "print(\"accuracy:\\t\", cnt/iter_n)     \n",
    "print(\"significance:\\t\", sig/iter_n)"
   ]
  },
  {
   "cell_type": "code",
   "execution_count": null,
   "id": "76695b41",
   "metadata": {},
   "outputs": [],
   "source": [
    "scope.dis()"
   ]
  }
 ],
 "metadata": {
  "kernelspec": {
   "display_name": "Python 3 (ipykernel)",
   "language": "python",
   "name": "python3"
  },
  "language_info": {
   "codemirror_mode": {
    "name": "ipython",
    "version": 3
   },
   "file_extension": ".py",
   "mimetype": "text/x-python",
   "name": "python",
   "nbconvert_exporter": "python",
   "pygments_lexer": "ipython3",
   "version": "3.7.16"
  }
 },
 "nbformat": 4,
 "nbformat_minor": 5
}
